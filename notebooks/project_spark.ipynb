{
 "cells": [
  {
   "cell_type": "code",
   "execution_count": 49,
   "id": "664fd808-0ed7-4488-8548-a1d53c38cb66",
   "metadata": {},
   "outputs": [
    {
     "data": {
      "text/html": [
       "\n",
       "            <div>\n",
       "                <p><b>SparkSession - hive</b></p>\n",
       "                \n",
       "        <div>\n",
       "            <p><b>SparkContext</b></p>\n",
       "\n",
       "            <p><a href=\"http://172.28.127.166:4040\">Spark UI</a></p>\n",
       "\n",
       "            <dl>\n",
       "              <dt>Version</dt>\n",
       "                <dd><code>v3.3.2</code></dd>\n",
       "              <dt>Master</dt>\n",
       "                <dd><code>local[*]</code></dd>\n",
       "              <dt>AppName</dt>\n",
       "                <dd><code>PySparkShell</code></dd>\n",
       "            </dl>\n",
       "        </div>\n",
       "        \n",
       "            </div>\n",
       "        "
      ],
      "text/plain": [
       "<pyspark.sql.session.SparkSession at 0x7f8fe84c1700>"
      ]
     },
     "execution_count": 49,
     "metadata": {},
     "output_type": "execute_result"
    }
   ],
   "source": [
    "spark"
   ]
  },
  {
   "cell_type": "code",
   "execution_count": 1,
   "id": "ddf79f70-6f4c-416b-8e3c-125af1daef67",
   "metadata": {},
   "outputs": [],
   "source": [
    "#Reading Files From HDFS Local\n",
    "resultfile_path = \"hdfs://localhost:9000/data/international_football_DS/results.csv\"\n",
    "goalscorersfile_path = \"hdfs://localhost:9000/data/international_football_DS/goalscorers.csv\"\n",
    "shootoutsfile_path = \"hdfs://localhost:9000/data/international_football_DS/shootouts.csv\"\n"
   ]
  },
  {
   "cell_type": "code",
   "execution_count": 2,
   "id": "f869042f-be96-468d-895c-5c0a677f4d9a",
   "metadata": {},
   "outputs": [],
   "source": [
    "from pyspark.sql.functions import col, monotonically_increasing_id\n",
    "from pyspark.sql.functions import col, sum\n"
   ]
  },
  {
   "cell_type": "code",
   "execution_count": 3,
   "id": "71a6bf9d-b6e0-46ce-83b9-f0e6658be1a2",
   "metadata": {},
   "outputs": [
    {
     "name": "stderr",
     "output_type": "stream",
     "text": [
      "                                                                                "
     ]
    }
   ],
   "source": [
    "#Read result_file\n",
    "df_result=spark.read.csv(resultfile_path,header=True,inferSchema=True)"
   ]
  },
  {
   "cell_type": "code",
   "execution_count": 4,
   "id": "a64276be-5728-4f1b-9556-64cb48781f7e",
   "metadata": {},
   "outputs": [
    {
     "name": "stdout",
     "output_type": "stream",
     "text": [
      "+-------------------+---------+---------+----------+----------+----------+-------+--------+-------+\n",
      "|               date|home_team|away_team|home_score|away_score|tournament|   city| country|neutral|\n",
      "+-------------------+---------+---------+----------+----------+----------+-------+--------+-------+\n",
      "|1872-11-30 00:00:00| Scotland|  England|         0|         0|  Friendly|Glasgow|Scotland|  false|\n",
      "|1873-03-08 00:00:00|  England| Scotland|         4|         2|  Friendly| London| England|  false|\n",
      "|1874-03-07 00:00:00| Scotland|  England|         2|         1|  Friendly|Glasgow|Scotland|  false|\n",
      "|1875-03-06 00:00:00|  England| Scotland|         2|         2|  Friendly| London| England|  false|\n",
      "|1876-03-04 00:00:00| Scotland|  England|         3|         0|  Friendly|Glasgow|Scotland|  false|\n",
      "+-------------------+---------+---------+----------+----------+----------+-------+--------+-------+\n",
      "only showing top 5 rows\n",
      "\n"
     ]
    }
   ],
   "source": [
    "df_result.show(5)"
   ]
  },
  {
   "cell_type": "code",
   "execution_count": 5,
   "id": "7562d3d6-7e3c-4fd6-a55d-4cb684aaeade",
   "metadata": {},
   "outputs": [],
   "source": [
    "#Read goalscorers_file\n",
    "df_goalscorers=spark.read.csv(goalscorersfile_path,header=True,inferSchema=True)"
   ]
  },
  {
   "cell_type": "code",
   "execution_count": 6,
   "id": "803a5fd3-cbab-4934-a309-d192492609a4",
   "metadata": {},
   "outputs": [
    {
     "name": "stdout",
     "output_type": "stream",
     "text": [
      "+-------------------+---------+---------+---------+----------------+------+--------+-------+\n",
      "|               date|home_team|away_team|     team|          scorer|minute|own_goal|penalty|\n",
      "+-------------------+---------+---------+---------+----------------+------+--------+-------+\n",
      "|1916-07-02 00:00:00|    Chile|  Uruguay|  Uruguay| José Piendibene|    44|   false|  false|\n",
      "|1916-07-02 00:00:00|    Chile|  Uruguay|  Uruguay|Isabelino Gradín|    55|   false|  false|\n",
      "|1916-07-02 00:00:00|    Chile|  Uruguay|  Uruguay|Isabelino Gradín|    70|   false|  false|\n",
      "|1916-07-02 00:00:00|    Chile|  Uruguay|  Uruguay| José Piendibene|    75|   false|  false|\n",
      "|1916-07-06 00:00:00|Argentina|    Chile|Argentina|   Alberto Ohaco|     2|   false|  false|\n",
      "+-------------------+---------+---------+---------+----------------+------+--------+-------+\n",
      "only showing top 5 rows\n",
      "\n"
     ]
    }
   ],
   "source": [
    "df_goalscorers.show(5)"
   ]
  },
  {
   "cell_type": "code",
   "execution_count": 7,
   "id": "c35e0f23-9ded-4453-8d6a-81e5f8a89c38",
   "metadata": {},
   "outputs": [
    {
     "data": {
      "text/plain": [
       "44362"
      ]
     },
     "execution_count": 7,
     "metadata": {},
     "output_type": "execute_result"
    }
   ],
   "source": [
    "df_goalscorers.count()"
   ]
  },
  {
   "cell_type": "code",
   "execution_count": 8,
   "id": "33b24c8d-9751-429f-9a0a-d134e5c2ced2",
   "metadata": {},
   "outputs": [],
   "source": [
    "#Read shootouts_file\n",
    "df_shootouts=spark.read.csv(shootoutsfile_path,header=True,inferSchema=True)"
   ]
  },
  {
   "cell_type": "code",
   "execution_count": 9,
   "id": "9824dc62-c19d-46c7-b067-4de1d0e64731",
   "metadata": {},
   "outputs": [
    {
     "name": "stdout",
     "output_type": "stream",
     "text": [
      "+----+---------+---------+------+-------------+\n",
      "|date|home_team|away_team|winner|first_shooter|\n",
      "+----+---------+---------+------+-------------+\n",
      "|   0|        0|        0|     0|          415|\n",
      "+----+---------+---------+------+-------------+\n",
      "\n"
     ]
    }
   ],
   "source": [
    "#check null vals\n",
    "df_shootouts.select([sum(col(c).isNull().cast(\"int\")).alias(c) for c in df_shootouts.columns]).show()\n"
   ]
  },
  {
   "cell_type": "code",
   "execution_count": 10,
   "id": "e34c6ff7-09e9-4713-8bb0-a5f4811d381c",
   "metadata": {},
   "outputs": [
    {
     "name": "stdout",
     "output_type": "stream",
     "text": [
      "+-------------------+-----------+----------------+-----------+\n",
      "|               date|  home_team|       away_team|     winner|\n",
      "+-------------------+-----------+----------------+-----------+\n",
      "|1967-08-22 00:00:00|      India|          Taiwan|     Taiwan|\n",
      "|1971-11-14 00:00:00|South Korea|Vietnam Republic|South Korea|\n",
      "|1972-05-07 00:00:00|South Korea|            Iraq|       Iraq|\n",
      "|1972-05-17 00:00:00|   Thailand|     South Korea|South Korea|\n",
      "|1972-05-19 00:00:00|   Thailand|        Cambodia|   Thailand|\n",
      "+-------------------+-----------+----------------+-----------+\n",
      "only showing top 5 rows\n",
      "\n"
     ]
    }
   ],
   "source": [
    "#drop null column\n",
    "df_shootouts=df_shootouts.drop(\"first_shooter\")\n",
    "df_shootouts.show(5)"
   ]
  },
  {
   "cell_type": "code",
   "execution_count": 12,
   "id": "4171fe28-0dbc-4e5b-bf34-8bab80384f43",
   "metadata": {},
   "outputs": [
    {
     "name": "stdout",
     "output_type": "stream",
     "text": [
      "+----+---------+---------+----------+----------+----------+----+-------+-------+\n",
      "|date|home_team|away_team|home_score|away_score|tournament|city|country|neutral|\n",
      "+----+---------+---------+----------+----------+----------+----+-------+-------+\n",
      "|   0|        0|        0|         0|         0|         0|   0|      0|      0|\n",
      "+----+---------+---------+----------+----------+----------+----+-------+-------+\n",
      "\n"
     ]
    }
   ],
   "source": [
    "#check null vals\n",
    "df_result.select([sum(col(c).isNull().cast(\"int\")).alias(c) for c in df_result.columns]).show()\n"
   ]
  },
  {
   "cell_type": "code",
   "execution_count": 13,
   "id": "ac5ec54a-c079-4ccb-9e0e-d893a3499042",
   "metadata": {},
   "outputs": [
    {
     "name": "stdout",
     "output_type": "stream",
     "text": [
      "+----+---------+---------+----+------+------+--------+-------+\n",
      "|date|home_team|away_team|team|scorer|minute|own_goal|penalty|\n",
      "+----+---------+---------+----+------+------+--------+-------+\n",
      "|   0|        0|        0|   0|     0|     0|       0|      0|\n",
      "+----+---------+---------+----+------+------+--------+-------+\n",
      "\n"
     ]
    }
   ],
   "source": [
    "#check null vals\n",
    "df_goalscorers.select([sum(col(c).isNull().cast(\"int\")).alias(c) for c in df_goalscorers.columns]).show()"
   ]
  },
  {
   "cell_type": "code",
   "execution_count": 14,
   "id": "c43c26e1-8fa8-4aad-992f-e59063edf174",
   "metadata": {},
   "outputs": [],
   "source": [
    " # create Dim_Teams\n",
    "df_teams_dim = df_result.selectExpr(\"home_team as team\").union(df_result.selectExpr(\"away_team as team\")).distinct()\n",
    "df_teams_dim = df_teams_dim.withColumn(\"team_id\", monotonically_increasing_id())"
   ]
  },
  {
   "cell_type": "code",
   "execution_count": 15,
   "id": "d1c57ec8-5722-4f4a-9d38-581205f1efbb",
   "metadata": {},
   "outputs": [
    {
     "name": "stderr",
     "output_type": "stream",
     "text": [
      "[Stage 24:>                                                         (0 + 2) / 2]"
     ]
    },
    {
     "name": "stdout",
     "output_type": "stream",
     "text": [
      "+--------+-------+\n",
      "|    team|team_id|\n",
      "+--------+-------+\n",
      "| Kabylia|      0|\n",
      "|  Kernow|      1|\n",
      "|    Chad|      2|\n",
      "|Provence|      3|\n",
      "|  Russia|      4|\n",
      "+--------+-------+\n",
      "only showing top 5 rows\n",
      "\n"
     ]
    },
    {
     "name": "stderr",
     "output_type": "stream",
     "text": [
      "                                                                                "
     ]
    }
   ],
   "source": [
    "df_teams_dim.show(5)"
   ]
  },
  {
   "cell_type": "code",
   "execution_count": 16,
   "id": "10a29daa-241a-4be3-b502-66c0fccedeb1",
   "metadata": {},
   "outputs": [],
   "source": [
    "#create dim date\n",
    "from pyspark.sql.functions import date_format\n",
    "\n",
    "df_date_dim = df_result.select(\"date\").distinct()\n",
    "df_date_dim = df_date_dim.withColumn(\"date_id\", date_format(col(\"date\"), \"yyyyMMdd\").cast(\"int\"))"
   ]
  },
  {
   "cell_type": "code",
   "execution_count": 17,
   "id": "3e77ac88-08fb-40ba-a9db-21d8657c0741",
   "metadata": {},
   "outputs": [
    {
     "name": "stdout",
     "output_type": "stream",
     "text": [
      "+-------------------+--------+\n",
      "|               date| date_id|\n",
      "+-------------------+--------+\n",
      "|1880-03-27 00:00:00|18800327|\n",
      "|1906-10-07 00:00:00|19061007|\n",
      "|1924-01-20 00:00:00|19240120|\n",
      "|1924-04-21 00:00:00|19240421|\n",
      "|1925-03-26 00:00:00|19250326|\n",
      "+-------------------+--------+\n",
      "only showing top 5 rows\n",
      "\n"
     ]
    }
   ],
   "source": [
    "df_date_dim.show(5)"
   ]
  },
  {
   "cell_type": "code",
   "execution_count": 18,
   "id": "35967968-b4d3-464e-96fe-121e761bf79c",
   "metadata": {},
   "outputs": [],
   "source": [
    "# Dim_tournament\n",
    "df_tournaments_dim = df_result.selectExpr(\"tournament as tournament\").distinct()\n",
    "df_tournaments_dim= df_tournaments_dim.withColumn(\"tournament_id\",monotonically_increasing_id())"
   ]
  },
  {
   "cell_type": "code",
   "execution_count": 19,
   "id": "ef76f488-68b3-476e-954f-35470c7774c0",
   "metadata": {},
   "outputs": [
    {
     "name": "stdout",
     "output_type": "stream",
     "text": [
      "+--------------------+-------------+\n",
      "|          tournament|tournament_id|\n",
      "+--------------------+-------------+\n",
      "|South Pacific Min...|            0|\n",
      "|United Arab Emira...|            1|\n",
      "|          Balkan Cup|            2|\n",
      "|           UEFA Euro|            3|\n",
      "| Nordic Championship|            4|\n",
      "+--------------------+-------------+\n",
      "only showing top 5 rows\n",
      "\n"
     ]
    }
   ],
   "source": [
    "df_tournaments_dim.show(5)"
   ]
  },
  {
   "cell_type": "code",
   "execution_count": 20,
   "id": "072ea92c-60f6-4b70-b57c-3a254012eb59",
   "metadata": {},
   "outputs": [],
   "source": [
    "# Dim_locations\n",
    "df_locations_dim = df_result.select(\"country\",\"city\").distinct()\n",
    "df_locations_dim = df_locations_dim.withColumn(\"location_id\",monotonically_increasing_id())"
   ]
  },
  {
   "cell_type": "code",
   "execution_count": 21,
   "id": "6ce94f87-f429-4e7f-8ca0-5e5c8255c87e",
   "metadata": {},
   "outputs": [
    {
     "name": "stdout",
     "output_type": "stream",
     "text": [
      "+------------+-------------+-----------+\n",
      "|     country|         city|location_id|\n",
      "+------------+-------------+-----------+\n",
      "|     Romania|     Ploiești|          0|\n",
      "|    Malaysia|  George Town|          1|\n",
      "|    Cameroon|       Garoua|          2|\n",
      "|Saudi Arabia|         Abha|          3|\n",
      "|    Botswana|Selebi-Phikwe|          4|\n",
      "+------------+-------------+-----------+\n",
      "only showing top 5 rows\n",
      "\n"
     ]
    }
   ],
   "source": [
    "df_locations_dim.show(5)"
   ]
  },
  {
   "cell_type": "code",
   "execution_count": 47,
   "id": "cadebc72-0b81-4a99-acdb-05421bb2699f",
   "metadata": {},
   "outputs": [],
   "source": [
    "#create players dim\n",
    "df_players_dim = df_goalscorers.selectExpr(\"scorer as player_name\").distinct()\n",
    "df_players_dim = df_players_dim.withColumn(\"player_id\",monotonically_increasing_id())"
   ]
  },
  {
   "cell_type": "code",
   "execution_count": 48,
   "id": "3575a9d4-f66d-4e3c-b329-c19e83c19a49",
   "metadata": {},
   "outputs": [
    {
     "name": "stdout",
     "output_type": "stream",
     "text": [
      "+-----------------+---------+\n",
      "|      player_name|player_id|\n",
      "+-----------------+---------+\n",
      "|       Davy Walsh|        0|\n",
      "|   Herbert Martin|        1|\n",
      "|    Gianni Rivera|        2|\n",
      "|Walt Schmotolocha|        3|\n",
      "|      Matar Niang|        4|\n",
      "+-----------------+---------+\n",
      "only showing top 5 rows\n",
      "\n"
     ]
    }
   ],
   "source": [
    "df_players_dim.show(5)"
   ]
  },
  {
   "cell_type": "code",
   "execution_count": 24,
   "id": "d09f424b-287d-419c-9263-315b08063ea7",
   "metadata": {},
   "outputs": [],
   "source": [
    "#create matches Fact\n",
    "\n",
    "from pyspark.sql.functions import col, sha2, concat_ws\n",
    "\n",
    "#  match_id Hash \n",
    "df_fact_matches = df_result.withColumn(\n",
    "    \"match_id\",\n",
    "    sha2(concat_ws(\"_\", col(\"date\"), col(\"home_team\"), col(\"away_team\"), col(\"tournament\")), 256)\n",
    ")\n",
    "\n",
    "# Dim_Teamر\n",
    "df_fact_matches = df_fact_matches \\\n",
    "    .join(df_teams_dim.withColumnRenamed(\"team\", \"home_team\").withColumnRenamed(\"team_id\", \"home_team_id\"), \"home_team\", \"left\") \\\n",
    "    .join(df_teams_dim.withColumnRenamed(\"team\", \"away_team\").withColumnRenamed(\"team_id\", \"away_team_id\"), \"away_team\", \"left\")\n",
    "\n",
    "# join with Dim_Tournaments\n",
    "df_fact_matches = df_fact_matches.join(df_tournaments_dim,\"tournament\",\"left\")\n",
    "# join with Dim_Locations\n",
    "df_fact_matches = df_fact_matches.join(df_locations_dim, [\"city\", \"country\"] ,\"left\")\n",
    "# join with Dim_date\n",
    "df_fact_matches = df_fact_matches.join(df_date_dim,\"date\" ,\"left\")\n",
    "#select cols\n",
    "df_fact_matches=df_fact_matches.select(\"match_id\",\"date_id\",\"home_team_id\",\"away_team_id\",\"tournament_id\",\"home_score\",\"away_score\",\"location_id\",\"neutral\")\n",
    "\n"
   ]
  },
  {
   "cell_type": "code",
   "execution_count": 25,
   "id": "641548d3-782f-4b54-9c9e-2b2f9ef33259",
   "metadata": {},
   "outputs": [
    {
     "name": "stdout",
     "output_type": "stream",
     "text": [
      "root\n",
      " |-- match_id: string (nullable = true)\n",
      " |-- date_id: integer (nullable = true)\n",
      " |-- home_team_id: long (nullable = true)\n",
      " |-- away_team_id: long (nullable = true)\n",
      " |-- tournament_id: long (nullable = true)\n",
      " |-- home_score: integer (nullable = true)\n",
      " |-- away_score: integer (nullable = true)\n",
      " |-- location_id: long (nullable = true)\n",
      " |-- neutral: boolean (nullable = true)\n",
      "\n"
     ]
    }
   ],
   "source": [
    "df_fact_matches.printSchema()"
   ]
  },
  {
   "cell_type": "code",
   "execution_count": 37,
   "id": "d9561cc3-f206-4a31-9573-69e647dfaa00",
   "metadata": {},
   "outputs": [
    {
     "name": "stdout",
     "output_type": "stream",
     "text": [
      "+--------------------+--------+------------+------------+-------------+----------+----------+-----------+-------+\n",
      "|            match_id| date_id|home_team_id|away_team_id|tournament_id|home_score|away_score|location_id|neutral|\n",
      "+--------------------+--------+------------+------------+-------------+----------+----------+-----------+-------+\n",
      "|65eaa3137a7049cef...|18721130|         308|         279|           80|         0|         0|       1264|  false|\n",
      "|15d05aa97f15593df...|18730308|         279|         308|           80|         4|         2|       1057|  false|\n",
      "|ac44c311321beb7cf...|18740307|         308|         279|           80|         2|         1|       1264|  false|\n",
      "|f9b50f6106904ea55...|18750306|         279|         308|           80|         2|         2|       1057|  false|\n",
      "|1cb0b458c67035d5a...|18760304|         308|         279|           80|         3|         0|       1264|  false|\n",
      "+--------------------+--------+------------+------------+-------------+----------+----------+-----------+-------+\n",
      "only showing top 5 rows\n",
      "\n"
     ]
    }
   ],
   "source": [
    "df_fact_matches.show(5)"
   ]
  },
  {
   "cell_type": "code",
   "execution_count": 33,
   "id": "42324e73-2936-4689-b307-543a40aa0597",
   "metadata": {},
   "outputs": [],
   "source": [
    "#create fact goalscorers\n",
    "\n",
    "df_fact_goalscorers = df_goalscorers \\\n",
    "    .join(df_teams_dim.withColumnRenamed(\"team\", \"home_team\")\n",
    "                      .withColumnRenamed(\"team_id\", \"home_team_id\"), \"home_team\", \"left\") \\\n",
    "    .join(df_teams_dim.withColumnRenamed(\"team\", \"away_team\")\n",
    "                      .withColumnRenamed(\"team_id\", \"away_team_id\"), \"away_team\", \"left\") \\\n",
    "    .join(df_players_dim.withColumnRenamed(\"player_name\",\"scorer\").withColumnRenamed(\"player_id\",\"player_scorer_id\"),\"scorer\",\"left\") \\\n",
    "\n",
    "\n",
    "df_fact_goalscorers=df_fact_goalscorers.join(df_date_dim,\"date\",\"left\")\n",
    "\n",
    "df_fact_goalscorers=df_fact_goalscorers.select(\"date_id\", \"home_team_id\", \"away_team_id\",\"team\", \"player_scorer_id\", \"minute\", \"own_goal\", \"penalty\")\n"
   ]
  },
  {
   "cell_type": "code",
   "execution_count": 34,
   "id": "83b7430d-b8dc-4f91-8ab2-fc7a9b33260d",
   "metadata": {},
   "outputs": [
    {
     "name": "stderr",
     "output_type": "stream",
     "text": [
      "[Stage 81:=========>        (1 + 1) / 2][Stage 83:>                 (0 + 1) / 1]"
     ]
    },
    {
     "name": "stdout",
     "output_type": "stream",
     "text": [
      "+--------+------------+------------+---------+----------------+------+--------+-------+\n",
      "| date_id|home_team_id|away_team_id|     team|player_scorer_id|minute|own_goal|penalty|\n",
      "+--------+------------+------------+---------+----------------+------+--------+-------+\n",
      "|19160702|         116|         192|  Uruguay|            6020|    44|   false|  false|\n",
      "|19160702|         116|         192|  Uruguay|            null|    55|   false|  false|\n",
      "|19160702|         116|         192|  Uruguay|            null|    70|   false|  false|\n",
      "|19160702|         116|         192|  Uruguay|            6020|    75|   false|  false|\n",
      "|19160706|          80|         116|Argentina|            null|     2|   false|  false|\n",
      "+--------+------------+------------+---------+----------------+------+--------+-------+\n",
      "only showing top 5 rows\n",
      "\n"
     ]
    },
    {
     "name": "stderr",
     "output_type": "stream",
     "text": [
      "                                                                                "
     ]
    }
   ],
   "source": [
    "df_fact_goalscorers.show(5)"
   ]
  },
  {
   "cell_type": "code",
   "execution_count": 44,
   "id": "a8c20044-4eae-458f-a6dd-eb7c3ffc3105",
   "metadata": {},
   "outputs": [],
   "source": [
    "# create shootouts fact\n",
    "\n",
    "df_fact_shootouts = df_shootouts \\\n",
    ".join(df_teams_dim.withColumnRenamed(\"team\",\"home_team\").withColumnRenamed(\"team_id\",\"home_team_id\"),\"home_team\",\"left\") \\\n",
    ".join(df_teams_dim.withColumnRenamed(\"team\",\"away_team\").withColumnRenamed(\"team_id\",\"away_team_id\"),\"away_team\",\"left\") \\\n",
    ".join(df_date_dim ,\"date\",\"left\")\n",
    "\n",
    "\n",
    "df_fact_shootouts=df_fact_shootouts.select(\"date_id\",\"home_team_id\",\"away_team_id\",\"winner\")"
   ]
  },
  {
   "cell_type": "code",
   "execution_count": 45,
   "id": "ee781ba6-1bc7-4c6d-8d78-6192430631db",
   "metadata": {},
   "outputs": [
    {
     "name": "stdout",
     "output_type": "stream",
     "text": [
      "+--------+------------+------------+-----------+\n",
      "| date_id|home_team_id|away_team_id|     winner|\n",
      "+--------+------------+------------+-----------+\n",
      "|19670822|         106|          69|     Taiwan|\n",
      "|19711114|         187|         249|South Korea|\n",
      "|19720507|         187|          37|       Iraq|\n",
      "|19720517|         165|         187|South Korea|\n",
      "|19720519|         165|          45|   Thailand|\n",
      "+--------+------------+------------+-----------+\n",
      "only showing top 5 rows\n",
      "\n"
     ]
    }
   ],
   "source": [
    "df_fact_shootouts.show(5)"
   ]
  },
  {
   "cell_type": "code",
   "execution_count": 46,
   "id": "c6a9a2d4-2680-444d-b975-475f71efe0d5",
   "metadata": {},
   "outputs": [
    {
     "name": "stderr",
     "output_type": "stream",
     "text": [
      "                                                                                "
     ]
    }
   ],
   "source": [
    "spark.conf.set(\"spark.sql.parquet.int96RebaseModeInWrite\", \"LEGACY\")\n",
    "\n",
    "df_fact_matches.write.mode(\"overwrite\").parquet(\"hdfs://localhost:9000/parquet_data/fact_matches.parquet\")\n",
    "df_fact_goalscorers.write.mode(\"overwrite\").parquet(\"hdfs://localhost:9000/parquet_data/fact_goalscorers.parquet\")\n",
    "df_fact_shootouts.write.mode(\"overwrite\").parquet(\"hdfs://localhost:9000/parquet_data/fact_shootouts.parquet\")\n",
    "df_teams_dim.write.mode(\"overwrite\").parquet(\"hdfs://localhost:9000/parquet_data/dim_teams.parquet\")\n",
    "df_date_dim.write.mode(\"overwrite\").parquet(\"hdfs://localhost:9000/parquet_data/dim_date.parquet\")\n",
    "df_players_dim.write.mode(\"overwrite\").parquet(\"hdfs://localhost:9000/parquet_data/dim_players.parquet\")\n",
    "df_tournaments_dim.write.mode(\"overwrite\").parquet(\"hdfs://localhost:9000/parquet_data/dim_tournaments.parquet\")\n",
    "df_locations_dim.write.mode(\"overwrite\").parquet(\"hdfs://localhost:9000/parquet_data/dim_locations.parquet\")\n"
   ]
  }
 ],
 "metadata": {
  "kernelspec": {
   "display_name": "Python 3 (ipykernel)",
   "language": "python",
   "name": "python3"
  },
  "language_info": {
   "codemirror_mode": {
    "name": "ipython",
    "version": 3
   },
   "file_extension": ".py",
   "mimetype": "text/x-python",
   "name": "python",
   "nbconvert_exporter": "python",
   "pygments_lexer": "ipython3",
   "version": "3.8.20"
  }
 },
 "nbformat": 4,
 "nbformat_minor": 5
}
